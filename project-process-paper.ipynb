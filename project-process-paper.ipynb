{
 "cells": [
  {
   "cell_type": "markdown",
   "id": "887b09c4",
   "metadata": {},
   "source": [
    "# Assignment \n",
    "\n",
    "This process paper is a time for you to discuss the process you took personally to get to the final project. Why did you choose the data you chose? How well did it work for your question? Did you need (or want) to change your question as you evaluated your data more? What provided you with particular difficulties or struggles? How did you overcome those challenges? What parts were the easy parts? \n",
    "\n",
    "This paper should be a minimum of 300 words. It should be turned in via a .ipynb file, so you can demonstrate some of the issues with code, or you can use it to show things you thought were particularly interesting, but might not have found their way into the final project.\n",
    "\n",
    "Think of this as a reflection on the process you went through to get to the final project. You should be familiar with reflections at this point in your Queens career.\n",
    "\n",
    "Begin writing in the cell below."
   ]
  },
  {
   "cell_type": "markdown",
   "id": "3c14e1b9",
   "metadata": {},
   "source": [
    "# Process Paper\n",
    "\n",
    "When I started this project, I wasn't sure what to explore, until after doing some assignments in the course with the imdb data. I thought it was pretty interesting to analyze, seeing as how I could analyze some of my favorite shows along with others. And it's from this that I came up with the idea of wanting to explore Hulu’s dataset, since it's the only platform I have used besides Netflix. \n",
    "\n",
    "The dataset stood out to me because it had show-level metadata, like episode counts, ratings, and genres, which immediately gave me a lot to work with. My original (I didn't really change my question at all, I just stuck with it) question was simple: *Is there a correlation between high ratings and show popularity?* I defined popularity using episode count, assuming that more episodes might indicate success or demand.\n",
    "\n",
    "At first glance, I had a solid plan, but once I started exploring the data, I realized it was more complicated. Episode count had a right-skewed distribution, which meant I needed to be careful with how I interpreted averages and correlations. \n",
    "\n",
    "```py\n",
    "sns.histplot(df['show/episodes_count'].dropna(), bins=30, kde=True)\n",
    "plt.title('Episode Count Distribution')\n",
    "plt.show()\n",
    "```\n",
    "\n",
    "![Episode Count Distribution](output1.png)\n",
    "\n",
    "This skewed shape made it clear that a few long-running shows were pulling the average way up, so I leaned more on medians and used statistical tests to back up my assumptions.\n",
    "\n",
    "Before I ran the Pearson correlation, I actually tried filtering out all shows with fewer than five episodes, thinking this might remove noise from one-off specials or short series. But it ended up cutting too much from the dataset and didnt change the results meaningfully. And the correlation was still almost nonexistent so that helped confirm that the relationship between episode count and ratings really wasn’t there, even after adjusting for outliers.\n",
    "\n",
    "I tested my initial correlation (pearson correlation) but the results ended up coming back almost flat, so I decided to compare genres. I added t-tests and ANOVA to explore how different content types vary not just in length, but also in how they’re rated.\n",
    "\n",
    "One of the trickier parts was just cleaning and filtering the data in a way that made these tests fair. Genres overlapped or were inconsistent, so I had to write careful conditionals:\n",
    "\n",
    "```py\n",
    "df['isReality'] = df['show/genre'].str.contains('Reality and Game Shows', na=False)\n",
    "df['isDrama'] = df['show/genre'].str.contains('Drama', na=False) & ~df['isReality']\n",
    "```\n",
    "\n",
    "The easier parts were visualizations. using seaborn made it straightforward to show differences in a way that felt clear and meaningful.\n",
    "\n",
    "Overall, the process taught me how important it is to let the data guide the analysis. Even though my original question didn’t pan out the way I expected, it led to more useful insights about how genre affects both show structure and reception."
   ]
  }
 ],
 "metadata": {
  "kernelspec": {
   "display_name": "Python 3",
   "language": "python",
   "name": "python3"
  },
  "language_info": {
   "name": "python",
   "version": "3.13.3"
  }
 },
 "nbformat": 4,
 "nbformat_minor": 5
}
